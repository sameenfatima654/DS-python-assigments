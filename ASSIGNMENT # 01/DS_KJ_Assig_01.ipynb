{
 "cells": [
  {
   "cell_type": "markdown",
   "id": "da0bd008",
   "metadata": {},
   "source": [
    "### Question no: 01"
   ]
  },
  {
   "cell_type": "code",
   "execution_count": 1,
   "id": "00b54604",
   "metadata": {},
   "outputs": [
    {
     "name": "stdout",
     "output_type": "stream",
     "text": [
      "   Twinkle, twinkle, Little Star,\n",
      "            How I Wonder What you are!\n",
      "                  Up above the world so High,\n",
      "                  Like the diamond in the Sky.\n",
      "   Twinkle, twinkle, Little Star,\n",
      "            How I Wonder What you are!\n"
     ]
    }
   ],
   "source": [
    "print(\"   Twinkle, twinkle, Little Star,\");\n",
    "print(\"            How I Wonder What you are!\");\n",
    "print(\"                  Up above the world so High,\");\n",
    "print(\"                  Like the diamond in the Sky.\");\n",
    "print(\"   Twinkle, twinkle, Little Star,\");\n",
    "print(\"            How I Wonder What you are!\");"
   ]
  },
  {
   "cell_type": "markdown",
   "id": "004957dc",
   "metadata": {},
   "source": [
    "### Question no: 02"
   ]
  },
  {
   "cell_type": "code",
   "execution_count": 2,
   "id": "f32d2dac",
   "metadata": {},
   "outputs": [
    {
     "name": "stdout",
     "output_type": "stream",
     "text": [
      "Python Version : \n"
     ]
    },
    {
     "data": {
      "text/plain": [
       "'3.8.8 (default, Apr 13 2021, 15:08:03) [MSC v.1916 64 bit (AMD64)]'"
      ]
     },
     "execution_count": 2,
     "metadata": {},
     "output_type": "execute_result"
    }
   ],
   "source": [
    "import sys\n",
    "print(\"Python Version : \");\n",
    "sys.version"
   ]
  },
  {
   "cell_type": "markdown",
   "id": "41ae367c",
   "metadata": {},
   "source": [
    "### Question no: 03"
   ]
  },
  {
   "cell_type": "code",
   "execution_count": 3,
   "id": "4846bde4",
   "metadata": {},
   "outputs": [
    {
     "name": "stdout",
     "output_type": "stream",
     "text": [
      "Date & time right now :  01/01/22    01:17:50\n"
     ]
    }
   ],
   "source": [
    "from datetime import datetime\n",
    "a = datetime.now()\n",
    "b = a.strftime(\"%d/%m/%y    %H:%M:%S\")\n",
    "print(\"Date & time right now : \",b)"
   ]
  },
  {
   "cell_type": "code",
   "execution_count": 8,
   "id": "ab90c9d2",
   "metadata": {},
   "outputs": [
    {
     "data": {
      "text/plain": [
       "datetime.date(2022, 1, 1)"
      ]
     },
     "execution_count": 8,
     "metadata": {},
     "output_type": "execute_result"
    }
   ],
   "source": [
    "#from datetime import date\n",
    "#date.today()"
   ]
  },
  {
   "cell_type": "code",
   "execution_count": 6,
   "id": "d6d90e7b",
   "metadata": {},
   "outputs": [
    {
     "data": {
      "text/plain": [
       "datetime.datetime(2022, 1, 1, 1, 18, 17, 130081)"
      ]
     },
     "execution_count": 6,
     "metadata": {},
     "output_type": "execute_result"
    }
   ],
   "source": [
    "#datetime.now()"
   ]
  },
  {
   "cell_type": "markdown",
   "id": "75e65e9f",
   "metadata": {},
   "source": [
    "### Question no: 04"
   ]
  },
  {
   "cell_type": "code",
   "execution_count": 15,
   "id": "16a3149f",
   "metadata": {},
   "outputs": [
    {
     "name": "stdout",
     "output_type": "stream",
     "text": [
      "enter radius of a circle : 5\n",
      "Area of a Circle:  75\n"
     ]
    }
   ],
   "source": [
    "rad = int(input(\"enter radius of a circle : \" ))\n",
    "area = 3*rad**2                 #pi = 3.142 rounded to 3\n",
    "print('Area of a Circle: ',area)"
   ]
  },
  {
   "cell_type": "markdown",
   "id": "b1b9c292",
   "metadata": {},
   "source": [
    "### Question no: 05"
   ]
  },
  {
   "cell_type": "code",
   "execution_count": 13,
   "id": "0c8faa82",
   "metadata": {},
   "outputs": [
    {
     "name": "stdout",
     "output_type": "stream",
     "text": [
      "First Name: SAMEEN\n",
      "Last Name:  FATIMA\n",
      "your name is reversed: FATIMA   SAMEEN\n"
     ]
    }
   ],
   "source": [
    "first = input(\"First Name: \")\n",
    "last = input(\"Last Name:  \")\n",
    "print (\"your name is reversed:\",last,\" \",first)"
   ]
  },
  {
   "cell_type": "markdown",
   "id": "3c4ef4ac",
   "metadata": {},
   "source": [
    "### Question no: 06"
   ]
  },
  {
   "cell_type": "code",
   "execution_count": 14,
   "id": "49574658",
   "metadata": {},
   "outputs": [
    {
     "name": "stdout",
     "output_type": "stream",
     "text": [
      "enter any no: 65\n",
      "enter any no: 34\n",
      "The sum of two numbers =  99\n"
     ]
    }
   ],
   "source": [
    "x = int(input(\"enter any no: \"))\n",
    "y = int(input(\"enter any no: \"))\n",
    "z = x + y\n",
    "print( \"The sum of two numbers = \", z)"
   ]
  },
  {
   "cell_type": "code",
   "execution_count": 19,
   "id": "8a4bc83e",
   "metadata": {},
   "outputs": [
    {
     "name": "stdout",
     "output_type": "stream",
     "text": [
      "enter something: PAk\n",
      "enter something: kHi\n",
      "Their addition is =  PAkkHi\n"
     ]
    }
   ],
   "source": [
    "##OR\n",
    "xx = input(\"enter something: \")\n",
    "yy = input(\"enter something: \")\n",
    "zz = xx+  yy\n",
    "print( \"Their addition is = \", zz)"
   ]
  },
  {
   "cell_type": "code",
   "execution_count": null,
   "id": "2e7f1427",
   "metadata": {},
   "outputs": [],
   "source": []
  }
 ],
 "metadata": {
  "kernelspec": {
   "display_name": "Python 3",
   "language": "python",
   "name": "python3"
  },
  "language_info": {
   "codemirror_mode": {
    "name": "ipython",
    "version": 3
   },
   "file_extension": ".py",
   "mimetype": "text/x-python",
   "name": "python",
   "nbconvert_exporter": "python",
   "pygments_lexer": "ipython3",
   "version": "3.8.8"
  }
 },
 "nbformat": 4,
 "nbformat_minor": 5
}
